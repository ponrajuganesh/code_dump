{
 "cells": [
  {
   "cell_type": "code",
   "execution_count": 69,
   "metadata": {
    "collapsed": true
   },
   "outputs": [],
   "source": [
    "from sqlite3 import dbapi2 as sqlite3\n",
    "import datetime\n",
    "import calendar"
   ]
  },
  {
   "cell_type": "code",
   "execution_count": 49,
   "metadata": {
    "collapsed": false
   },
   "outputs": [],
   "source": [
    "def get_next_weekday(d, weekday):\n",
    "    days_ahead = weekday - d.weekday()\n",
    "    if days_ahead <= 0: # Target day already happened this week\n",
    "        days_ahead += 7\n",
    "    return d + datetime.timedelta(days_ahead)\n",
    "\n",
    "frequencies_counter = {\n",
    "    0: 4,\n",
    "    1: 2,\n",
    "    2: 1\n",
    "}\n",
    "\n",
    "frequencies_add_dates = {\n",
    "    0: 7,\n",
    "    1: 15,\n",
    "    2: 31\n",
    "}\n",
    "\n",
    "day_names = {\n",
    "    0: \"Monday\",\n",
    "    1: \"Tuesday\",\n",
    "    2: \"Wednesday\",\n",
    "    3: \"Thusday\",\n",
    "    4: \"Friday\",\n",
    "    5: \"Saturday\",\n",
    "    6: \"Sunday\"\n",
    "}"
   ]
  },
  {
   "cell_type": "code",
   "execution_count": 6,
   "metadata": {
    "collapsed": true
   },
   "outputs": [],
   "source": [
    "def get_db():\n",
    "\tsqlite_db = sqlite3.connect('data.db')\n",
    "\tsqlite_db.row_factory = sqlite3.Row\n",
    "\treturn sqlite_db"
   ]
  },
  {
   "cell_type": "code",
   "execution_count": 7,
   "metadata": {
    "collapsed": true
   },
   "outputs": [],
   "source": [
    "def query_db(query, args=(), one=False):\n",
    "\t\"\"\"Queries the database and returns a list of dictionaries.\"\"\"\n",
    "\tcur = get_db().execute(query, args)\n",
    "\trv = cur.fetchall()\n",
    "\treturn (rv[0] if rv else None) if one else rv"
   ]
  },
  {
   "cell_type": "code",
   "execution_count": 55,
   "metadata": {
    "collapsed": true
   },
   "outputs": [],
   "source": []
  },
  {
   "cell_type": "code",
   "execution_count": 82,
   "metadata": {
    "collapsed": false
   },
   "outputs": [
    {
     "name": "stdout",
     "output_type": "stream",
     "text": [
      "{'April 22': [<sqlite3.Row object at 0x10da9f890>, <sqlite3.Row object at 0x10da9f310>], 'April 21': [<sqlite3.Row object at 0x10da9f8b0>, <sqlite3.Row object at 0x10da9f610>, <sqlite3.Row object at 0x10da9f290>], 'April 26': [<sqlite3.Row object at 0x10da9f5b0>, <sqlite3.Row object at 0x10da9fe50>, <sqlite3.Row object at 0x10da9fe70>, <sqlite3.Row object at 0x10da9fe90>, <sqlite3.Row object at 0x10da9feb0>], 'April 27': [<sqlite3.Row object at 0x10da9ff50>, <sqlite3.Row object at 0x10da9fdf0>, <sqlite3.Row object at 0x10da9fd30>, <sqlite3.Row object at 0x10da9fe30>], 'April 24': [<sqlite3.Row object at 0x10da9fe10>], 'April 25': [<sqlite3.Row object at 0x10da9f0d0>, <sqlite3.Row object at 0x10da9f5d0>], 'May 5': [<sqlite3.Row object at 0x10da9f5f0>]}\n"
     ]
    }
   ],
   "source": [
    "db = get_db()\n",
    "user_id = 1\n",
    "subscriptions = query_db(\"select * from subscription where user_id = ?\", [user_id])\n",
    "\n",
    "dates = {}\n",
    "\n",
    "for subscription in subscriptions:\n",
    "    days = subscription['days'].split(\",\")\n",
    "    \n",
    "    for day in days:\n",
    "        frequency_counter, i = frequencies_counter[int(subscription['frequency'])], 1\n",
    "        \n",
    "        next_week_day = datetime.datetime.now()\n",
    "        while i <= frequency_counter:\n",
    "            next_week_day = get_next_weekday(next_week_day, int(day))\n",
    "            if next_week_day.date() in dates:\n",
    "                if subscription['price_id'] not in dates[next_week_day.date()]:\n",
    "                    dates[next_week_day.date()].append(subscription['price_id'])\n",
    "            else:\n",
    "                dates[next_week_day.date()] = None\n",
    "                dates[next_week_day.date()] = []\n",
    "                dates[next_week_day.date()].append(subscription['price_id'])\n",
    "            next_week_day += datetime.timedelta(frequencies_add_dates[int(subscription['frequency'])])\n",
    "            i += 1\n",
    "    \n",
    "sorted_dates = sorted(dates.keys())\n",
    "\n",
    "data = {}\n",
    "\n",
    "for date in sorted_dates[:7]:\n",
    "    month_date = calendar.month_name[date.month] + \" \" + str(date.day)\n",
    "    data[month_date] = []\n",
    "    \n",
    "    for price_id in dates[date]:\n",
    "        orders = query_db(\"select product.img_src, product.name as product_name, price.quantity, seller.name from price, seller, product, subscription where price.product_id = product.id and seller.id = price.seller_id and subscription.price_id = price.id and subscription.user_id = ? and price.id = ?\", [user_id, price_id])\n",
    "        \n",
    "        for order in orders:\n",
    "            data[month_date].append(order)\n",
    "\n",
    "print data"
   ]
  },
  {
   "cell_type": "code",
   "execution_count": 29,
   "metadata": {
    "collapsed": false
   },
   "outputs": [
    {
     "name": "stdout",
     "output_type": "stream",
     "text": [
      "2017-04-20\n"
     ]
    }
   ],
   "source": [
    "print (datetime.date.today()).isoformat()"
   ]
  },
  {
   "cell_type": "code",
   "execution_count": 28,
   "metadata": {
    "collapsed": false
   },
   "outputs": [
    {
     "name": "stdout",
     "output_type": "stream",
     "text": [
      "2017-04-21\n"
     ]
    }
   ],
   "source": [
    "print (datetime.date.today() + datetime.timedelta(1)).isoformat()"
   ]
  },
  {
   "cell_type": "code",
   "execution_count": 41,
   "metadata": {
    "collapsed": true
   },
   "outputs": [],
   "source": [
    "def get_next_seven_dates():\n",
    "    dates = {}\n",
    "    dates[datetime.date.today()] = None\n",
    "    dates[datetime.date.today()] = []\n",
    "\n",
    "    for i in range(1, 7):\n",
    "        dates[datetime.date.today() + datetime.timedelta(i)] = None\n",
    "        dates[datetime.date.today() + datetime.timedelta(i)] = []\n",
    "    \n",
    "    return dates"
   ]
  },
  {
   "cell_type": "code",
   "execution_count": 42,
   "metadata": {
    "collapsed": false
   },
   "outputs": [
    {
     "name": "stdout",
     "output_type": "stream",
     "text": [
      "7\n"
     ]
    }
   ],
   "source": [
    "dates = get_next_seven_dates()\n",
    "print len(dates)"
   ]
  },
  {
   "cell_type": "code",
   "execution_count": 45,
   "metadata": {
    "collapsed": false
   },
   "outputs": [
    {
     "name": "stdout",
     "output_type": "stream",
     "text": [
      "[datetime.date(2017, 4, 20), datetime.date(2017, 4, 21), datetime.date(2017, 4, 22), datetime.date(2017, 4, 23), datetime.date(2017, 4, 24), datetime.date(2017, 4, 25), datetime.date(2017, 4, 26)]\n"
     ]
    }
   ],
   "source": [
    "sorted_dates = sorted(dates.keys())\n",
    "print sorted_dates"
   ]
  },
  {
   "cell_type": "code",
   "execution_count": null,
   "metadata": {
    "collapsed": true
   },
   "outputs": [],
   "source": []
  }
 ],
 "metadata": {
  "kernelspec": {
   "display_name": "Python 2",
   "language": "python",
   "name": "python2"
  },
  "language_info": {
   "codemirror_mode": {
    "name": "ipython",
    "version": 2
   },
   "file_extension": ".py",
   "mimetype": "text/x-python",
   "name": "python",
   "nbconvert_exporter": "python",
   "pygments_lexer": "ipython2",
   "version": "2.7.13"
  }
 },
 "nbformat": 4,
 "nbformat_minor": 0
}
